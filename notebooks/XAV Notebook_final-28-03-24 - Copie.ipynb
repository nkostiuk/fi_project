{
 "cells": [
  {
   "cell_type": "markdown",
   "id": "86e9e6df-7a60-4ccb-967a-7e9c00e47b14",
   "metadata": {},
   "source": [
    "### Sommaire\n",
    "\n",
    "* [Chapitre 1. Premières explorations des sets de données](#chapter1)\n",
    "    * [Section 1.1. Contexte et objectifs du projet](#section_1_1)\n",
    "    * [Section 1.2. Importation des librairies](#section_1_2)\n",
    "    * [Section 1.3. Importation des données](#section_1_3)\n",
    "        * [Section 1.3.1. Importation des fichiers .csv de GoogleDrive](#section_1_3_1)\n",
    "        * [Section 1.3.2. Transformation fichiers .csv en fichiers .parquet](#section_1_3_2)\n",
    "        * [Section 1.3.3. Lecture des fichiers .parquet générés localement sur JUPYTER](#section_1_3_3)\n",
    "        * [Section 1.3.4. Affichage des DataFrames](#section_1_3_4)\n",
    "     * [Section 1.4. Exploration préliminaire des variables du jeu de données](#section_1_4)\n",
    "        * [Section 1.4.1. Analyse des types et des colonnes, et forme des DataFrames ](#section_1_4_1)\n",
    "        * [Section 1.4.2. Analyse des doublons dans chaque DataFrame](#section_1_4_2)\n",
    "        * [Section 1.4.3. Résumé de la qualité des données](#section_1_4_3)\n",
    "     * [Section 1.5. Fusion de jeux de données](#section_1_5)\n",
    "* [Chapitre 2. Exploration et Analyse de données avec DataViz](#chapter2)\n",
    "    * [Section 2.1. Analyses Statistiques](#section_2_1)\n",
    "        * [Section 2.1.1. Tests de Pearson entre les variables tailles des entreprises et salaires moyens ](#section_2_1_1)\n",
    "        * [Section 2.1.2. Test de Spearman entre le salaire médian et le nombre d'entreprises de petite taille](#section_2_1_2)\n",
    "        * [Section 2.1.3. Test ANOVA](#section_2_1_3)\n",
    "    * [Section 2.2. Représentation graphiques](#section_2_2)\n",
    "        * [Section 2.2.1. Représentations graphiques des salaires médians par région](#section_2_2_1)\n",
    "        * [Section 2.2.2. Représentations graphiques de la distribution des salaires des femmes et des hommes de plus de 50 ans dans l'industrie en France](#section_2_2_2) \n",
    "        * [Section 2.2.3. Représentation graphique des salaires des femmes de plus de 50 ans par région](#section_2_2_3)\n",
    "        * [Section 2.2.4. Corrélation entre les tailles d'entreprise et les salaires moyens (heatmap)](#section_2_2_4)\n",
    "        * [Section 2.2.5. Représentation graphique du nombre d'enterprises par région](#section_2_2_5)\n",
    "        * [Section 2.2.6. Représentation graphique du type d'entreprises par Chef lieu des régions françaises](#section_2_2_6)\n",
    "    * [Section 2.3](#section_2_3)\n",
    "    * [Section 2.4](#section_2_4)\n",
    "    * [Section 2.5](#section_2_5)\n",
    " \n",
    "* [Chapitre 3. Nettoyage de données et Pre-procession](#chapter3)\n",
    "    * [Section 3.1](#section_3_1)\n",
    "    * [Section 3.2](#section_3_2)\n",
    "    * \n",
    "* [Chapitre 4. ](#chapter4)\n",
    "    * [Section 4.1](#section_4_1)\n",
    "    * [Section 4.2](#section_4_2)\n"
   ]
  },
  {
   "cell_type": "markdown",
   "id": "3a69ee71-ebf0-4746-bacd-38601b29bbf4",
   "metadata": {},
   "source": [
    "### Chapitre 1. Premières explorations des sets de données <a class=\"anchor\" id=\"chapter1\"></a>\n",
    "\n",
    "#### Section 1.1. Contexte et objectifs du projet <a class=\"anchor\" id=\"section_1_1\"></a>\n",
    "\n",
    "**Contexte :** L'INSEE, Institut national de la statistique et des études économiques, est l'organisme officiel français chargé de recueillir une variété de données sur le territoire français. Ces données, qu'elles soient démographiques (telles que les naissances, les décès, la densité de la population...) ou économiques (comme les salaires, le nombre d'entreprises par secteur d'activité ou par taille...), offrent une vision complète de la société française. \n",
    "Elles constituent ainsi une ressource précieuse pour analyser et comprendre les dynamiques sociales, économiques et territoriales du pays.\n",
    "\n",
    "**Objectifs :** Cette étude vise à comparer les inégalités en France selon plusieurs dimensions. Tout d'abord, nous nous pencherons sur les disparités entre les entreprises, en examinant leur localisation géographique et leur taille. \n",
    "Ensuite, nous nous intéresserons aux inégalités au sein de la population, en analysant les variations de salaires en fonction de différents critères tels que la catégorie d’emploi et la localisation géographique. \n",
    "Enfin, nous concentrerons notre attention sur une grande ville en particulier, afin d'étudier de manière approfondie les inégalités qui peuvent exister à l'échelle locale.\n"
   ]
  },
  {
   "cell_type": "markdown",
   "id": "fcce3540-6071-49a1-a3d1-8c7eca9ee9c4",
   "metadata": {},
   "source": [
    "#### Section 1.2. Importation des librairies <a class=\"anchor\" id=\"section_1_2\"></a>"
   ]
  },
  {
   "cell_type": "code",
   "execution_count": 1,
   "id": "67ecc227-dcfb-4da9-9a1f-53db004dc4f6",
   "metadata": {},
   "outputs": [
    {
     "ename": "ImportError",
     "evalue": "DLL load failed while importing lib: La procédure spécifiée est introuvable.",
     "output_type": "error",
     "traceback": [
      "\u001b[1;31m---------------------------------------------------------------------------\u001b[0m",
      "\u001b[1;31mImportError\u001b[0m                               Traceback (most recent call last)",
      "Cell \u001b[1;32mIn[1], line 12\u001b[0m\n\u001b[0;32m      9\u001b[0m \u001b[38;5;28;01mfrom\u001b[39;00m \u001b[38;5;21;01mmatplotlib\u001b[39;00m\u001b[38;5;21;01m.\u001b[39;00m\u001b[38;5;21;01mticker\u001b[39;00m \u001b[38;5;28;01mimport\u001b[39;00m FuncFormatter\n\u001b[0;32m     11\u001b[0m \u001b[38;5;66;03m#librairies for csv to parquet (needs \"pyarrow\" package in Anaconda)\u001b[39;00m\n\u001b[1;32m---> 12\u001b[0m \u001b[38;5;28;01mimport\u001b[39;00m \u001b[38;5;21;01mpyarrow\u001b[39;00m \u001b[38;5;28;01mas\u001b[39;00m \u001b[38;5;21;01mpa\u001b[39;00m\n\u001b[0;32m     13\u001b[0m \u001b[38;5;28;01mimport\u001b[39;00m \u001b[38;5;21;01mpyarrow\u001b[39;00m\u001b[38;5;21;01m.\u001b[39;00m\u001b[38;5;21;01mparquet\u001b[39;00m \u001b[38;5;28;01mas\u001b[39;00m \u001b[38;5;21;01mpq\u001b[39;00m\n\u001b[0;32m     15\u001b[0m \u001b[38;5;66;03m# Import modules from the appended path\u001b[39;00m\n",
      "File \u001b[1;32m~\\anaconda3\\envs\\FRENCHINDUSTRYXAVIER\\Lib\\site-packages\\pyarrow\\__init__.py:65\u001b[0m\n\u001b[0;32m     63\u001b[0m _gc_enabled \u001b[38;5;241m=\u001b[39m _gc\u001b[38;5;241m.\u001b[39misenabled()\n\u001b[0;32m     64\u001b[0m _gc\u001b[38;5;241m.\u001b[39mdisable()\n\u001b[1;32m---> 65\u001b[0m \u001b[38;5;28;01mimport\u001b[39;00m \u001b[38;5;21;01mpyarrow\u001b[39;00m\u001b[38;5;21;01m.\u001b[39;00m\u001b[38;5;21;01mlib\u001b[39;00m \u001b[38;5;28;01mas\u001b[39;00m \u001b[38;5;21;01m_lib\u001b[39;00m\n\u001b[0;32m     66\u001b[0m \u001b[38;5;28;01mif\u001b[39;00m _gc_enabled:\n\u001b[0;32m     67\u001b[0m     _gc\u001b[38;5;241m.\u001b[39menable()\n",
      "\u001b[1;31mImportError\u001b[0m: DLL load failed while importing lib: La procédure spécifiée est introuvable."
     ]
    }
   ],
   "source": [
    "import sys\n",
    "sys.path.append('../src')\n",
    "\n",
    "# standards librairies\n",
    "import numpy as np\n",
    "import pandas as pd\n",
    "import matplotlib.pyplot as plt\n",
    "import seaborn as sns\n",
    "from matplotlib.ticker import FuncFormatter\n",
    "\n",
    "#librairies for csv to parquet (needs \"pyarrow\" package in Anaconda)\n",
    "import pyarrow as pa\n",
    "import pyarrow.parquet as pq\n",
    "\n",
    "# Import modules from the appended path\n",
    "from fi_functions import *\n",
    "\n",
    "# Set display options to show all columns\n",
    "pd.set_option('display.max_columns', None)\n",
    "\n",
    "\n",
    "import warnings\n",
    "warnings.filterwarnings('ignore')"
   ]
  },
  {
   "cell_type": "markdown",
   "id": "9311c298-163f-43dc-b7f4-decfab7486d3",
   "metadata": {},
   "source": [
    "#### Section 1.3. Importation des données <a class=\"anchor\" id=\"section_1_3\"></a>"
   ]
  },
  {
   "cell_type": "markdown",
   "id": "b17aa231-4b16-4c20-b232-81c9fd0c85a7",
   "metadata": {},
   "source": [
    "##### Section 1.3.1. Importation des fichiers .csv de GoogleDrive <a class=\"anchor\" id=\"section_1_3_1\"></a> "
   ]
  },
  {
   "cell_type": "code",
   "execution_count": null,
   "id": "08b873ce-d0e7-46b3-a85a-e5f5f6dd4b47",
   "metadata": {},
   "outputs": [],
   "source": [
    "# To KEEP - Direct Import From JUPYTER directory\n",
    "#df_entreprises = pd.read_csv('../data/base_etablissement_par_tranche_effectif.csv') \n",
    "#df_salary = pd.read_csv('../data/net_salary_per_town_categories_update2021.csv', sep = ';')\n",
    "#df_name_geographic = pd.read_csv('../data/name_geographic_information.csv', na_values = '-') \n",
    "#df_population = pd.read_csv('../data/population.csv', dtype={'CODGEO': object} )"
   ]
  },
  {
   "cell_type": "code",
   "execution_count": null,
   "id": "17962f12-033c-494a-bcde-f9b99dff7c39",
   "metadata": {},
   "outputs": [],
   "source": [
    "# read .csv form Google Drive\n",
    "file_id_entreprise = '1HT3JTOTiwqWkU0dLUSutLF5glxdVKpE4' # .csv file\n",
    "file_id_salary = '1NLw8ymnnzLONUM1IVrYsH_A7DsqT84df' # .csv file\n",
    "file_id_name_geographic = '1rgltgPmoDDzNT-YWYRvc11isdgmSmeAG' # .csv file\n",
    "file_id_population = '1LsrModG7yNKY_UI75UAXyb_4ixeUUxJj' # .csv file\n",
    "\n",
    "# Construct the direct download link\n",
    "download_link_entreprise = f'https://drive.google.com/uc?export=download&id={file_id_entreprise}'\n",
    "download_link_salary = f'https://drive.google.com/uc?export=download&id={file_id_salary}'\n",
    "download_link_name_geographic = f'https://drive.google.com/uc?export=download&id={file_id_name_geographic}'\n",
    "#download_link_population = f'https://drive.google.com/uc?export=download&confirm=1&id={file_id_population}'"
   ]
  },
  {
   "cell_type": "markdown",
   "id": "472aa66e-2fd3-45d6-a53b-b668c0644bf2",
   "metadata": {},
   "source": [
    "##### Section 1.3.2 Transformation fichiers .csv en fichiers .parquet <a class=\"anchor\" id=\"section_1_3_2\"></a> "
   ]
  },
  {
   "cell_type": "code",
   "execution_count": null,
   "id": "e2f5c921-8788-4bcf-ab7d-e7a927f57c36",
   "metadata": {},
   "outputs": [],
   "source": [
    "## Executed once to convert csv -> parquet\n",
    "#df_population = pd.read_csv('../data/population.csv', dtype={'CODGEO': object})  # OK  : from .csv file in jupyter before .parquet migration and deletion .csv file\n",
    "\n",
    "#df_population.astype({'CODGEO': str}).to_parquet(\"../data/population.parquet.gzip\", index=False, engine=\"pyarrow\",compression='gzip')"
   ]
  },
  {
   "cell_type": "markdown",
   "id": "0882c248-ef8e-430d-a241-a46e8e9e3ba3",
   "metadata": {},
   "source": [
    "##### Section 1.3.3 Lecture des fichiers .parquet générés localement sur JUPYTER <a class=\"anchor\" id=\"section_1_3_3\"></a> "
   ]
  },
  {
   "cell_type": "code",
   "execution_count": null,
   "id": "a0e9b9c5-8d45-4a29-9bc3-d41a23ad937f",
   "metadata": {},
   "outputs": [],
   "source": [
    "df_entreprises=pd.read_csv(download_link_entreprise, dtype={'CODGEO': object})     # OK  : from .csv file in google drive\n",
    "df_salary = pd.read_csv(download_link_salary, sep = ';')   # OK  : from .csv file in google drive\n",
    "df_name_geographic=pd.read_csv(download_link_name_geographic, dtype={0: 'object'})   # OK  : from .csv file in google drive\n",
    "df_population=pd.read_parquet('../data/population.parquet.gzip')  # OK  : from .csv file in Jupyter\n"
   ]
  },
  {
   "cell_type": "markdown",
   "id": "80775e02-6e64-438e-b696-24a189ac0f56",
   "metadata": {},
   "source": [
    "##### Section 1.3.4 Affichage des DataFrames <a class=\"anchor\" id=\"section_1_3_4\"></a> "
   ]
  },
  {
   "cell_type": "code",
   "execution_count": null,
   "id": "962dfb6c-a6a5-4304-9646-e00e4aacd365",
   "metadata": {},
   "outputs": [],
   "source": [
    "#DISPLAY Dataframes\n",
    "display(df_entreprises.head())  \n",
    "display(df_salary.head())  \n",
    "display(df_name_geographic.head()) \n",
    "display(df_population.head())  "
   ]
  },
  {
   "cell_type": "markdown",
   "id": "cb7478fa-ae53-4153-aedf-b2a27c2c1646",
   "metadata": {},
   "source": [
    "#### Section 1.4. Exploration préliminaire des variables du jeu de données <a class=\"anchor\" id=\"section_1_4\"></a> "
   ]
  },
  {
   "cell_type": "markdown",
   "id": "fbf2d30e-bf93-4117-a887-61cbcfa91c27",
   "metadata": {},
   "source": [
    "##### Section 1.4.1. Analyse des types et des colonnes, et forme des DataFrames <a class=\"anchor\" id=\"section_1_4_1\"></a> "
   ]
  },
  {
   "cell_type": "code",
   "execution_count": null,
   "id": "7082fc19-8c90-47af-85fb-ec0387c514fd",
   "metadata": {},
   "outputs": [],
   "source": [
    "# Review data types and columns info and shape\n",
    "\n",
    "print(df_entreprises.info())\n",
    "print(df_salary.info())\n",
    "print(df_name_geographic.info())\n",
    "print(df_population.info())"
   ]
  },
  {
   "cell_type": "code",
   "execution_count": null,
   "id": "27c9b611-b8e8-4c21-b99f-3c81b36ead2f",
   "metadata": {},
   "outputs": [],
   "source": [
    "# Shape for each DataFrame \n",
    "\n",
    "print(\"Shape of DF:\")\n",
    "print(\"entreprise:\",df_entreprises.shape)\n",
    "print(\"salary:\",df_salary.shape)\n",
    "print(\"name_geographic:\",df_name_geographic.shape)\n",
    "print(\"population:\",df_population.shape)"
   ]
  },
  {
   "cell_type": "markdown",
   "id": "615fa407-143a-4d2f-9865-797c9bce3aa8",
   "metadata": {},
   "source": [
    "##### Section 1.4.2. Analyse des doublons dans chaque DataFrame<a class=\"anchor\" id=\"section_1_4_2\"></a> "
   ]
  },
  {
   "cell_type": "code",
   "execution_count": null,
   "id": "ecc08bf2-03c6-4cdb-ad86-29b6c18df9c0",
   "metadata": {},
   "outputs": [],
   "source": [
    "# Number of duplicates for each DataFrame\n",
    "\n",
    "print('Number of duplicates :')\n",
    "print('entreprises :', df_entreprises.duplicated().sum())\n",
    "print('salary :', df_salary.duplicated().sum())\n",
    "print('name_geographic :', df_name_geographic.duplicated().sum(), ', name_geographic by com_code_insee :', df_name_geographic.duplicated(subset=['code_insee']).sum())\n",
    "print('population :', df_population.duplicated().sum())"
   ]
  },
  {
   "cell_type": "markdown",
   "id": "49581e5b-498c-4a11-83c5-f5a63ba386a3",
   "metadata": {},
   "source": [
    "##### Section 1.4.3. Résumé de la qualité des données<a class=\"anchor\" id=\"section_1_4_3\"></a>  "
   ]
  },
  {
   "cell_type": "code",
   "execution_count": null,
   "id": "f2d1bbaf-27f5-4de7-a1b9-3e03a9f461b4",
   "metadata": {},
   "outputs": [],
   "source": [
    "summary(df_entreprises)\n",
    "summary(df_salary)\n",
    "summary(df_population)\n",
    "summary_short(df_name_geographic)"
   ]
  },
  {
   "cell_type": "markdown",
   "id": "24728dea-0540-41d6-aaec-d5ead8ede088",
   "metadata": {},
   "source": [
    "**Conclusion pour df_name_geographic :** \n",
    "- Les noms des colonnes en français, tandis que ceux des autres DataFrames sont en anglais. Il est donc nécessaire de les renommer pour une cohérence.\n",
    "- La colonne \"code_insee\" semble correspondre à \"CODGEO\", mais il y a un '0' au debut, par example, '1024' au lieu de '01024'.\n",
    "- Les colonnes \"latitude\", \"longitude\", \"éloignement\" présentent respectivement 2929, 2841 et 2962 valeurs manquantes (NaN).\n",
    "- La colonne \"longitude\" devrait normalement être de type float64. Cependant, nous n'avons pas pu modifier le type en raison de problèmes avec les données. Par exemple :\n",
    "  \n",
    "    - L'utilisation de ',' au lieu de '.' pour la notation décimale : **'5,83'**\n",
    "    - La présence de '-' : ceux-ci doivent être remplacés par des valeurs NaN."
   ]
  },
  {
   "cell_type": "markdown",
   "id": "d187a640-9023-4a42-893a-2ba86006d4b4",
   "metadata": {},
   "source": [
    "**Conclusion pour df_salary :** \n",
    "-  Il y a de nombreuses catégories de salariés, mais on peut voir qu'elles sont divisées selon les catégories suivantes : catégorie d'emploi, sexe et âge. Ça peut faciliter analyse. \n",
    "- La colonne \"CODGEO\" semble correspondre à \"CODGEO\", mais il y a un '0' au debut, par example, '1024' au lieu de '01024'."
   ]
  },
  {
   "cell_type": "markdown",
   "id": "37bc1798-5218-4df5-aa8a-5f3f0d8e4778",
   "metadata": {},
   "source": [
    "**Conclusion pour df_entreprises :**  \n",
    "- Il y a beaucoup de zeros dans la DF pour les colonnes suivantes :\n",
    "    - 'E14TS6', 'E14TS10', 'E14TS20', 'E14TS50', 'E14TS100', 'E14TS200',\n",
    "       'E14TS500'\n",
    "- Pour améliorer cela, nous pouvons créer de nouvelles colonnes qui catégorisent les données en fonction de tailles d'entreprises plus vastes :\n",
    "    - Micro entreprise: 0 <= taille < 10 personnes\n",
    "    - Petit entreprise: 10 <= taille < 50 personnes\n",
    "    - Moyenne entreprise :  50 <= taille < 200 personnes\n",
    "    - Grande Entreprise : taille >= 200 personnes"
   ]
  },
  {
   "cell_type": "markdown",
   "id": "628882fe-a458-4645-963c-de1b6e36a23a",
   "metadata": {},
   "source": [
    "#### Section 1.5. Fusion de jeux de données <a class=\"anchor\" id=\"section_1_5\"></a> "
   ]
  },
  {
   "cell_type": "code",
   "execution_count": null,
   "id": "265124db-884e-418e-9262-69bbd8058ef2",
   "metadata": {},
   "outputs": [],
   "source": [
    "# read a new datasets that was found on INSEE, .csv from Google Drive\n",
    "file_id_entreprise = '1tP5j1NU6cT5kiEypf7ejQKrxNCrD4Cov' # .csv file\n",
    "file_id_name_geographic = '1swb4GyKND6sx6bY2cJk3cu4v7NosS938' # .csv file\n",
    "\n",
    "# Construct the direct download link\n",
    "download_link_entreprise = f'https://drive.google.com/uc?export=download&id={file_id_entreprise}'\n",
    "download_link_name_geographic = f'https://drive.google.com/uc?export=download&id={file_id_name_geographic}'\n",
    "\n",
    "df_entreprises24=pd.read_csv(download_link_entreprise, dtype={'CODGEO': object})     # OK  : from .csv file in google drive\n",
    "df_name_geographic_final=pd.read_csv(download_link_name_geographic, dtype={0: 'object', 5: 'object', 7: 'object', 14: 'object'})   # OK  : from .csv file in google drive"
   ]
  },
  {
   "cell_type": "code",
   "execution_count": null,
   "id": "07447fe6-0d10-4b05-8f42-2ca4d6a0e4ce",
   "metadata": {},
   "outputs": [],
   "source": [
    "# The CSV import may have removed leading \"0\"s from the INSEE CODE, this function adds them back\n",
    "add_leading_zeros(df_name_geographic_final,'COM_code_insee', 5)\n",
    "\n",
    "display(df_name_geographic_final.head())"
   ]
  },
  {
   "cell_type": "code",
   "execution_count": null,
   "id": "d137ba9e-5d6e-47c2-84a6-0341809feb26",
   "metadata": {},
   "outputs": [],
   "source": [
    "# Verification of duplicates by code_insee in df_name_geographic\n",
    "df_name_geographic_final[df_name_geographic_final.duplicated(subset = ['COM_code_insee'])]"
   ]
  },
  {
   "cell_type": "code",
   "execution_count": null,
   "id": "90d41888-1f2c-43a9-af48-c05e2637d6ae",
   "metadata": {},
   "outputs": [],
   "source": [
    "# Remove duplicates as the rows are identical\n",
    "df_name_geographic_final=df_name_geographic_final.drop_duplicates(subset=[\"COM_code_insee\"], keep=\"first\")"
   ]
  },
  {
   "cell_type": "code",
   "execution_count": null,
   "id": "9e9c36b6-46dc-455e-89fc-1a152226d505",
   "metadata": {},
   "outputs": [],
   "source": [
    "# MERGE START"
   ]
  },
  {
   "cell_type": "code",
   "execution_count": null,
   "id": "fa58cf35-a627-4f17-b31e-5b0d79df2bfe",
   "metadata": {},
   "outputs": [],
   "source": [
    "# MERGE Entreprise & df_name_geographic_final"
   ]
  },
  {
   "cell_type": "code",
   "execution_count": null,
   "id": "11b02870-0c6a-4fc1-a231-aca5b0a59341",
   "metadata": {},
   "outputs": [],
   "source": [
    "# The CSV import may have removed leading \"0\"s from the CODGEO, this function adds them back\n",
    "add_leading_zeros(df_entreprises24,'CODGEO', 5)\n",
    "df_entreprises24=df_entreprises24.drop(['ET_BE', 'ET_BE_0sal', 'ET_BE_1_4', 'ET_BE_5_9',\n",
    "       'ET_BE_10_19', 'ET_BE_20_49', 'ET_BE_50_99', 'ET_BE_100_199',\n",
    "       'ET_BE_200_499', 'ET_BE_500P', '||'], axis=1)\n",
    "\n",
    "display(df_entreprises24.head())"
   ]
  },
  {
   "cell_type": "code",
   "execution_count": null,
   "id": "1782cfa8-1385-4a0f-a948-be0fbf4c5396",
   "metadata": {},
   "outputs": [],
   "source": [
    "# Merge the 'df_entreprises24' DataFrame with the 'df_name_geographic_final' DataFrame based on the 'CODGEO' and 'COM_code_insee' columns\n",
    "df_merge1=df_entreprises24.merge(df_name_geographic_final,left_on='CODGEO',right_on='COM_code_insee')\n",
    "\n",
    "display(df_merge1.head())"
   ]
  },
  {
   "cell_type": "code",
   "execution_count": null,
   "id": "a8f84a75-2af4-49ec-905d-6d74e2797643",
   "metadata": {},
   "outputs": [],
   "source": [
    "# Add leading zeros to the 'CODGEO' column in the 'df_salary' DataFram\n",
    "add_leading_zeros(df_salary, 'CODGEO', 5)\n",
    "\n",
    "# Merge the 'df_merge1' DataFrame with the 'df_salary' DataFrame based on the 'CODGEO' column\n",
    "df_merge2=df_merge1.merge(df_salary,left_on='CODGEO',right_on='CODGEO')\n",
    "display(df_merge2.head())"
   ]
  },
  {
   "cell_type": "code",
   "execution_count": null,
   "id": "011fbac7-7568-4e08-9226-fb57121ac292",
   "metadata": {},
   "outputs": [],
   "source": [
    "# Merge the 'df_merge2' DataFrame with the 'df_population' DataFrame based on the 'CODGEO' column\n",
    "df_merge3=df_merge2.merge(df_population,left_on='CODGEO',right_on='CODGEO')\n",
    "display(df_merge3.head())"
   ]
  },
  {
   "cell_type": "code",
   "execution_count": null,
   "id": "0352e38f-b35a-43cc-ad4b-a90f394e61e8",
   "metadata": {},
   "outputs": [],
   "source": [
    "## Used once to export final merged file\n",
    "\n",
    "# Specify the file path where you want to save the CSV file\n",
    "#file_path = 'df_merge.csv'\n",
    "# Save the DataFrame to a CSV file\n",
    "#df_merge3.to_csv(file_path, index=False)  # Set index=False to avoid saving row numbers as a column"
   ]
  },
  {
   "cell_type": "code",
   "execution_count": null,
   "id": "99b3fe30-1db0-4695-9bce-2ac33156e5f0",
   "metadata": {},
   "outputs": [],
   "source": [
    "display(df_merge3.info())\n",
    "print(\"Duplicates in merge: \", df_merge3.duplicated().sum())"
   ]
  },
  {
   "cell_type": "markdown",
   "id": "90d2a9e7-df05-4112-b9dc-7ce126c54e06",
   "metadata": {},
   "source": [
    "### Chapitre 2. Exploration et Analyse de données avec DataViz <a class=\"anchor\" id=\"chapter2\"></a>"
   ]
  },
  {
   "cell_type": "markdown",
   "id": "be4df95b-72fb-4027-beab-73706571afbe",
   "metadata": {},
   "source": [
    "#### Section 2.1. Analyses Statistiques <a class=\"anchor\" id=\"section_2_1\"></a>"
   ]
  },
  {
   "cell_type": "markdown",
   "id": "c6cbc16e-ca43-4c9f-808e-abc2eb72e981",
   "metadata": {},
   "source": [
    "##### Section 2.1.1 Tests de Pearson entre les variables tailles des entreprises et salaires moyens  <a class=\"anchor\" id=\"section_2_1_1\"></a>\n",
    "\n",
    "Le test de corrélation de Pearson nous permet d'évaluer la relation entre deux variables quantitatives. Dans notre analyse, nous l'avons utilisé pour explorer la relation entre le salaire médian (SNHM20) et deux mesures de la taille des entreprises : le nombre d'entreprises de grande taille (nb_large_entreprises) et le nombre d'entreprises de petite taille (nb_micro_entreprises).\n",
    "\n",
    "\n",
    "**Test 1. SNHM20 (salaire médian) et nb_large_entreprises (nombre d'entreprises de grande taille)**\n",
    "\n",
    "\n",
    "**Hypothèses :**\n",
    "\n",
    "- H0 : Il n'y a pas de corrélation entre les variables.\n",
    "- H1 : Il y a une corrélation entre les variables.\n",
    "\n",
    "Si la valeur p < α, il existe une corrélation entre le salaire médian et le nombre d'entreprises de grande taille. Ce coefficient α indique l'intensité de la corrélation."
   ]
  },
  {
   "cell_type": "code",
   "execution_count": null,
   "id": "cf89155c-5701-4d18-b661-dad7511b96a7",
   "metadata": {},
   "outputs": [],
   "source": [
    "from scipy.stats import pearsonr\n",
    "\n",
    "# Perform Pearson correlation test\n",
    "test_pearson_lg = pearsonr(x = df_merge3[\"SNHM20\"], y = df_merge3[\"nb_large_entreprises\"]) \n",
    "\n",
    "print(\"p-value: \", test_pearson_lg[1])\n",
    "print(\"coefficient: \", test_pearson_lg[0])"
   ]
  },
  {
   "cell_type": "markdown",
   "id": "867f7b72-272c-4107-b1dd-58e5982ac71d",
   "metadata": {},
   "source": [
    "**Conclusions** \n",
    "\n",
    "Les résultats montrent un coefficient de corrélation de 0.0238 avec une valeur p extrêmement faible de 2.14e-159. \n",
    "\n",
    "La valeur p < 0.05, nous rejetons H0 et acceptons H1. Il existe une corrélation positive de faible intensité entre le salaire médian et le nombre d'entreprises de grande taille\n"
   ]
  },
  {
   "cell_type": "markdown",
   "id": "6cde1e4e-9505-4f2e-973f-ff20dfa3a210",
   "metadata": {},
   "source": [
    "**Test 2. SNHM20 (salaire médian) et nb_micro_entreprises (nombre d'entreprises de petite taille)**\n",
    "\n",
    "**Hypothèses :**\n",
    "\n",
    "- H0 : Il n'y a pas de corrélation entre les variables.\n",
    "- H1 : Il y a une corrélation entre les variables.\n",
    "\n",
    "Si la valeur p > α* : il n'y a pas de corrélation entre le salaire médian et le nombre d'entreprises de petite taille.\n",
    "<p>*Ce coefficient α montre l'intensité de la corrélation.</p>"
   ]
  },
  {
   "cell_type": "code",
   "execution_count": null,
   "id": "a38bb993-7380-44fa-851e-9791a5437b25",
   "metadata": {},
   "outputs": [],
   "source": [
    "from scipy.stats import pearsonr\n",
    "\n",
    "# Perform Pearson correlation test\n",
    "test_pearson_mc = pearsonr(x = df_merge3[\"SNHM20\"], y = df_merge3[\"nb_micro_entreprises\"]) \n",
    "\n",
    "print(\"p-value: \", test_pearson_mc[1])\n",
    "print(\"coefficient: \", test_pearson_mc[0])\n"
   ]
  },
  {
   "cell_type": "markdown",
   "id": "d9da8a51-0f58-4d30-b84a-17bbaac7d4ac",
   "metadata": {},
   "source": [
    "**Conclusions :**\n",
    "Le test de corrélation de Pearson entre ces deux variables montrent un coefficient de corrélation de -0.00918 avec une valeur p de 2.97e-25. \n",
    "\n",
    "La valeur p < 0.05, nous rejetons H0 et acceptons H1 : il y a une corrélation négative de faible intensité entre le salaire médian et le nombre d'entreprises de petite taille.\n",
    "\n",
    "Etant donné le faible coefficient de corrélation, on peux se demander s'il n'y a pas une correlation non-linéaire. De plus, nous voyons sur le graphique ci-dessous qu'il semble y avoir une relation mais que celle-ci n'est pas linéaire. \n",
    "\n",
    "Nous pouvons vérifier cette analyse de corrélation avec un test de Spearman."
   ]
  },
  {
   "cell_type": "code",
   "execution_count": null,
   "id": "1f979153-70cd-4cea-b07f-66b844a69721",
   "metadata": {},
   "outputs": [],
   "source": [
    "# Plot a scatter plot to visualize the relationship between median salary (SNHM20) \n",
    "# and the number of small enterprises (nb_micro_entreprises)\n",
    "\n",
    "sns.scatterplot(x='SNHM20', y='nb_micro_entreprises', data = df_merge3);"
   ]
  },
  {
   "cell_type": "markdown",
   "id": "8698598e-4d95-43a6-b853-46e54ed3d7b4",
   "metadata": {},
   "source": [
    "##### Section 2.1.2 Test de Spearman entre le salaire médian et le nombre d'entreprises de petite taille <a class=\"anchor\" id=\"section_2_1_2\"></a>\n",
    "\n",
    "**Hypothèses :**\n",
    "\n",
    "- H0 : Il n'y a pas de corrélation entre les variables.\n",
    "- H1 : Il y a une corrélation entre les variables.\n",
    "\n",
    "Si la valeur p > α* : il n'y a pas de corrélation entre le salaire médian et le nombre d'entreprises de petite taille.\n",
    "<p>*Ce coefficient α montre l'intensité de la corrélation.</p>"
   ]
  },
  {
   "cell_type": "code",
   "execution_count": null,
   "id": "8fa941b2-0f76-4353-8cc9-ee62a39d37e6",
   "metadata": {},
   "outputs": [],
   "source": [
    "from scipy import stats\n",
    "\n",
    "x = df_merge3['SNHM20']\n",
    "y = df_merge3['nb_micro_entreprises']\n",
    "\n",
    "# Computing the Spearman correlation coefficient\n",
    "\n",
    "spearman_corr, spearman_p_value = stats.spearmanr(x, y)\n",
    "\n",
    "print('Spearman correlation coefficient:', spearman_corr)\n",
    "print('p-value:', spearman_p_value)"
   ]
  },
  {
   "cell_type": "markdown",
   "id": "d20a1a3d-da32-4375-a3b3-44981c5f5ea7",
   "metadata": {},
   "source": [
    "**Conclusions :**\n",
    "\n",
    "Après avoir calculé le coefficient de corrélation de Spearman entre le salaire médian et le nombre d'entreprises de petite taille, nous avons obtenu un coefficient de -0.0555 avec une p de 0.0.\n",
    "\n",
    "Cela confirme une corrélation négative faible entre ces deux variables. Comparativement, avec le test de corrélation de Pearson, nous avions obtenu un coefficient de corrélation de -0.00918, également indiquant une corrélation négative, mais moins forte.\n",
    "\n",
    "La valeur p < 0.05, nous rejetons H0 et acceptons H1. \n",
    "Il existe une corrélation entre le salaire médian et le nombre d'entreprises de grande taille."
   ]
  },
  {
   "cell_type": "markdown",
   "id": "140087f8-e28a-421a-80d3-2bbae9e5b205",
   "metadata": {},
   "source": [
    "##### Section 2.1.3 Test ANOVA <a class=\"anchor\" id=\"section_2_1_3\"></a>"
   ]
  },
  {
   "cell_type": "markdown",
   "id": "d1a6d976-1002-4a74-8906-12c82cc49645",
   "metadata": {},
   "source": [
    "Test ANOVA entre les régions (REG_nom) et le salaire médian (SNHM20)\n",
    "\n",
    "**Hypothesis :** \n",
    "\n",
    "- H0 : Aucune influence significative entre les régions et le salaire médian\n",
    "- H1 : Influence significative entre les régions et le salaire médian"
   ]
  },
  {
   "cell_type": "code",
   "execution_count": null,
   "id": "581b2bec-4a31-4ade-b7b9-86ed88a4d34f",
   "metadata": {},
   "outputs": [],
   "source": [
    "## Test\n",
    "import statsmodels.api \n",
    "result = statsmodels.formula.api.ols('SNHM20 ~ REG_nom', data=df_merge3).fit()\n",
    "table = statsmodels.api.stats.anova_lm(result)\n",
    "display(table)\n",
    "\n",
    "print(\"p-value (PR(>F)) < 5%  - we reject H0 and accept H1\")"
   ]
  },
  {
   "cell_type": "markdown",
   "id": "3c5ee779-a2ee-4da5-81f2-7f113b9e2217",
   "metadata": {},
   "source": [
    "Il existe une influence significative entre les régions et le salaire médian."
   ]
  },
  {
   "cell_type": "code",
   "execution_count": null,
   "id": "dbf9d4ef-41e7-428f-ba57-c9ba5fd0741f",
   "metadata": {},
   "outputs": [],
   "source": []
  },
  {
   "cell_type": "markdown",
   "id": "d3ecdea8-0482-4f8f-9ed9-a50dc0426ea7",
   "metadata": {},
   "source": [
    "#### Section 2.2. Représentations graphiques <a class=\"anchor\" id=\"section_2_2\"></a>"
   ]
  },
  {
   "cell_type": "markdown",
   "id": "5f18f034-3951-4388-9d16-9cc827292dce",
   "metadata": {},
   "source": [
    "##### Section 2.2.1 Représentations graphiques des salaires médians par région <a class=\"anchor\" id=\"section_2_2_1\"></a>"
   ]
  },
  {
   "cell_type": "code",
   "execution_count": null,
   "id": "e5e64824-2d88-4521-a4e6-6716fc507e73",
   "metadata": {},
   "outputs": [],
   "source": [
    "#Barplot\n",
    "plt.figure(figsize=(20, 20))\n",
    "sns.catplot(x = 'SNHM20', y = 'REG_nom', kind = 'bar', data = df_merge3);\n",
    "plt.show();"
   ]
  },
  {
   "cell_type": "markdown",
   "id": "3a5a6316-f3cc-456d-a0d9-e18cd095a234",
   "metadata": {},
   "source": [
    "**Conclusion :** \n",
    "- La région où le salaire médian dans l'industrie est le plus élevé est l'Ile de France.\n",
    "- La région où le salaire médian dans l'industrie est le plus faible est La Réunion.\n",
    "- On constate une relative égalité dans les autres regions. "
   ]
  },
  {
   "cell_type": "code",
   "execution_count": null,
   "id": "fd9f74fc-e856-4d12-a7bf-162285548d39",
   "metadata": {},
   "outputs": [],
   "source": [
    "#Box plot (visibilité des valeurs aberrantes)\n",
    "plt.figure(figsize=(30, 15));\n",
    "sns.boxplot(x = 'REG_nom', y ='SNHM20', data = df_merge3)\n",
    "plt.title('Median salary per Region')\n",
    "plt.show()"
   ]
  },
  {
   "cell_type": "markdown",
   "id": "0e093f86-5ba5-40a9-b37a-33aa8f82b3e9",
   "metadata": {},
   "source": [
    "**Conclusions :**\n",
    "\n",
    "Dispersion : plus la boîte est longue, plus la dispersion des salaires moyens est grande dans une région, c'est le cas de l'Ile de France. (A l'inverse de la Bourgogne Franche-Comté, de la Corse ou de la Guyane).\n",
    "\n",
    "Valeurs aberrantes : Les points situés à l'extérieur des « moustaches » du boxplot représentent les valeurs aberrantes, c'est-à-dire les salaires moyens qui sont considérablement plus élevés ou plus bas que la norme dans une région. \n",
    "\n",
    "C'est le cas pour un grand nombre de régions dont l'IDF qui détient la palme. La conclusion est inverse pour les DOM-TOM, la Corse et le Centre Val de Loire."
   ]
  },
  {
   "cell_type": "markdown",
   "id": "99e63327-e1bf-4823-8ebd-3eb56165172a",
   "metadata": {},
   "source": [
    "##### Section 2.2.2 Représentations graphiques de la distribution des salaires des femmes et des hommes de plus de 50 ans dans l'industrie en France <a class=\"anchor\" id=\"section_2_2_2\"></a>"
   ]
  },
  {
   "cell_type": "code",
   "execution_count": null,
   "id": "d1622243-52fe-4258-8e4f-cb7b4c50fdb8",
   "metadata": {},
   "outputs": [],
   "source": [
    "fig, ax = plt.subplots(figsize=(8, 5))\n",
    "\n",
    "# Plot the distribution of women's salaries\n",
    "sns.histplot(df_merge3['SNHMF5020'], kde=True, color='orange', label='Femme',alpha=0.6, ax=ax)\n",
    "\n",
    "# Plot the distribution of men's salaries on the same Axes object\n",
    "sns.histplot(df_merge3['SNHM5020'], kde=True, color='green', label='Homme', alpha=0.6, ax=ax)\n",
    "\n",
    "plt.legend(title='Sex')\n",
    "plt.title('Répartition des salaires des femmes et des hommes de plus de 50 ans dans l\\'industrie en France')\n",
    "\n",
    "plt.xlabel('Salaire')"
   ]
  },
  {
   "cell_type": "markdown",
   "id": "dd3efc60-ee0f-43a3-a9ef-5335c5694686",
   "metadata": {},
   "source": [
    "La courbe KDE est inclinée vers la gauche, cela peut indiquer une concentration autour des salaires les plus bas. La concentration est plus importante aux alentours des 12€/h.\n",
    "<p> La courbe KDE est inclinée vers la gauche, cela peut indiquer une concentration autour des salaires les plus bas. La concentration est plus importante aux alentours des 15€/h. Les salaires même faibles sont supérieurs chez les hommes que chez les femmes.</p>"
   ]
  },
  {
   "cell_type": "markdown",
   "id": "4d2332ab-198b-4a8b-b790-a4ccaf7eaba3",
   "metadata": {},
   "source": [
    "##### Section 2.2.3 Représentation graphique des salaires des femmes de plus de 50 ans par région <a class=\"anchor\" id=\"section_2_2_3\"></a>"
   ]
  },
  {
   "cell_type": "code",
   "execution_count": null,
   "id": "00aee8f7-2889-436e-a44c-6c904a3d13ef",
   "metadata": {},
   "outputs": [],
   "source": [
    "plt.figure(figsize=(30, 10));\n",
    "sns.catplot(x = \"REG_ChefLieu\", y = \"SNHMF5020\", data = df_merge3, kind = \"violin\", \n",
    "            split = True, height=8, aspect=2, fontsize=10, labelpad=20, rotation=90);\n",
    "plt.show();"
   ]
  },
  {
   "cell_type": "markdown",
   "id": "389ead64-0d34-4840-ba66-a6b434a0f9af",
   "metadata": {},
   "source": [
    "Disparité : si un violon est plus large et plus plat que les autres, cela peut indiquer une plus grande disparité des salaires dans ce chef-lieu. \n",
    "Le cas de l'Ile de France est l'antinomie de cette conjecture (un violon plus étroit et plus élevé indique une concentration plus élevée de salaires autour d'une valeur moyenne). Rennes et Nantes sont des régions où les salaires sont plus disparates vs. l'Ile de France.\n",
    "\n",
    "Médiane : la ligne médiane à l'intérieur du violon représente la médiane des salaires. \n",
    "C'est la valeur centrale de la distribution des salaires pour ce groupe spécifique de femmes dans ce chef-lieu.\n",
    "\n",
    "Paris et Marseille ont des valeurs médianes plus élevées que les autres villes <=> les salaires des femmes sont en moyenne plus élevées dans ces villes a contrario de Lille ou Saint Denis de la Réunion par exemple\n"
   ]
  },
  {
   "cell_type": "markdown",
   "id": "46b0a138-c7f5-44bc-a784-28e8d58e820a",
   "metadata": {},
   "source": [
    "##### Section 2.2.3 Représentation graphique des salaires des hommes de plus de 50 ans par région <a class=\"anchor\" id=\"section_2_2_3\"></a>"
   ]
  },
  {
   "cell_type": "code",
   "execution_count": null,
   "id": "3350e1c9-e7cd-445a-ae60-ab93ca8780ec",
   "metadata": {},
   "outputs": [],
   "source": [
    "plt.figure(figsize=(30, 10));\n",
    "sns.catplot(x = \"REG_ChefLieu\", y = \"SNHMH5020\", data = df_merge3, kind = \"violin\", \n",
    "            split = True,height=8, aspect=2, fontsize=10, labelpad=20, rotation=90);\n",
    "plt.show();"
   ]
  },
  {
   "cell_type": "markdown",
   "id": "32db139a-ea7d-4740-a01b-2c13b87f1b43",
   "metadata": {},
   "source": [
    "Les interprétations sont sensiblement les mêmes que pour l'analyse des salaires des femmes de plus de 50 ans.\n",
    "La différence notable est le niveau de salaire nettement plus élevé chez les hommes que chez les femmes, c'est très visible en terme de concentration (surtout en IDF)"
   ]
  },
  {
   "cell_type": "code",
   "execution_count": null,
   "id": "591479c2-8675-4cbc-b225-18a4b02d37d7",
   "metadata": {},
   "outputs": [],
   "source": []
  },
  {
   "cell_type": "markdown",
   "id": "97b13d4a-47c8-4b0a-9e18-88848531b061",
   "metadata": {},
   "source": [
    "##### Section 2.2.4 Corrélation entre les tailles d'entreprise et les salaires moyens (heatmap) <a class=\"anchor\" id=\"section_2_2_4\"></a>"
   ]
  },
  {
   "cell_type": "code",
   "execution_count": null,
   "id": "d0250ea2-27fb-4be4-bf29-db38ab25047b",
   "metadata": {},
   "outputs": [],
   "source": [
    "# Correlation between companies size and avarage salaries\n",
    "selected_columns = ['Total_Salaries', 'nb_auto_entrepreneur','nb_micro_entreprises', 'nb_small_entreprises', \n",
    "                    'nb_medium_entreprises', 'nb_large_entreprises', 'SNHM20', 'NB']\n",
    "selected_df = df_merge3[selected_columns]\n",
    "\n",
    "correlation_matrix = selected_df.corr()\n",
    "\n",
    "plt.figure(figsize=(10, 10))\n",
    "sns.heatmap(correlation_matrix, annot=True, cmap='coolwarm', fmt=\".2f\")\n",
    "plt.title('Correlation between companies size and avarage salaries')\n",
    "plt.show()"
   ]
  },
  {
   "cell_type": "markdown",
   "id": "0de23891-233e-4b16-89f0-637007601d9e",
   "metadata": {},
   "source": [
    "On note assez peu de corrélations entre les salaires médians et les tailles d'entreprises."
   ]
  },
  {
   "cell_type": "markdown",
   "id": "d9ff67a1-1dd2-4c17-9345-ab2cbf542890",
   "metadata": {},
   "source": [
    "##### Section 2.2.5 Représentation graphique du nombre d'employés par région <a class=\"anchor\" id=\"section_2_2_5\"></a>"
   ]
  },
  {
   "cell_type": "code",
   "execution_count": null,
   "id": "f1db26bc-5cf5-47fc-91a7-c7b8603daa38",
   "metadata": {},
   "outputs": [],
   "source": [
    "# Aggregate the data by REG_nom and sum the number of enterprises\n",
    "reg_name_enterprises = df_merge3.groupby('REG_nom')['Total_Salaries'].sum().reset_index()\n",
    "\n",
    "# Sort DataFrame by the 'Total_Salaries' column\n",
    "reg_name_enterprises_sorted = reg_name_enterprises.sort_values(by='Total_Salaries', ascending=False)\n",
    "#display(reg_name_enterprises_sorted)"
   ]
  },
  {
   "cell_type": "code",
   "execution_count": null,
   "id": "7811ec14-9ad9-4903-bff9-15098b79acb3",
   "metadata": {},
   "outputs": [],
   "source": [
    "# Plotting the bar plot\n",
    "plt.figure(figsize=(12, 6))\n",
    "sns.barplot(x='REG_nom', y='Total_Salaries', data=reg_name_enterprises_sorted, palette='viridis' )\n",
    "plt.title('Total Number of Enterprises by Region Name')\n",
    "plt.xlabel('Region Name')\n",
    "plt.ylabel('Total Number of Enterprises')\n",
    "plt.xticks(rotation=45, ha='right')\n",
    "\n",
    "# Customize the y-axis ticks to show whole numbers\n",
    "plt.gca().yaxis.set_major_formatter(FuncFormatter(lambda x, _: '{:,.0f}'.format(x)))\n",
    "\n",
    "plt.show();\n"
   ]
  },
  {
   "cell_type": "markdown",
   "id": "98eec83e-aca1-4dce-9f47-d3105db960ab",
   "metadata": {},
   "source": [
    "La région qui compte le plus grand nombre de salariés dans l'industrie (près de 4 millions) est Auvergne-Rhône-Alpes."
   ]
  },
  {
   "cell_type": "markdown",
   "id": "fede11ff-d6ab-4eb0-aa2d-c2d7fb19927d",
   "metadata": {},
   "source": [
    "##### Section 2.2.6 Représentation graphique du type d'entreprises par Chef lieu des régions françaises <a class=\"anchor\" id=\"section_2_2_6\"></a>"
   ]
  },
  {
   "cell_type": "code",
   "execution_count": null,
   "id": "1111b5c3-33e1-4fca-9375-296435172cac",
   "metadata": {},
   "outputs": [],
   "source": [
    "# Aggregate the data by regional capital and sum the counts of each type of enterprise\n",
    "region_enterprise_counts = df_merge3.groupby('REG_ChefLieu')[['nb_auto_entrepreneur','nb_micro_entreprises', 'nb_small_entreprises', 'nb_medium_entreprises', 'nb_large_entreprises']].sum().reset_index()\n",
    "\n",
    "region_enterprise_counts_sorted = region_enterprise_counts.sort_values(by = 'nb_micro_entreprises', ascending = False)"
   ]
  },
  {
   "cell_type": "code",
   "execution_count": null,
   "id": "0fb526d9-242c-43e6-b248-cc42893b4b67",
   "metadata": {},
   "outputs": [],
   "source": [
    "region_enterprise_counts_sorted.plot(x='REG_ChefLieu', kind='bar', stacked=True, figsize=(12, 6))\n",
    "plt.title('Number of Enterprises by Regional Capital')\n",
    "plt.xlabel('Regional Capital')\n",
    "plt.ylabel('Number of Enterprises')\n",
    "plt.xticks(rotation=45, ha='right')\n",
    "\n",
    "# Customize the y-axis ticks to show whole numbers\n",
    "plt.gca().yaxis.set_major_formatter(FuncFormatter(lambda x, _: '{:,.0f}'.format(x)))"
   ]
  },
  {
   "cell_type": "markdown",
   "id": "81ed58dc-0c6e-4912-87ed-dc008797aced",
   "metadata": {},
   "source": [
    "La représentation des micro-entreprises dans l'industrie est majoritaire dans toutes les grandes villes françaises. Lyon est N°1 comme évoqué dans la représentation graphique précédente."
   ]
  },
  {
   "cell_type": "markdown",
   "id": "1c5409ac-60fd-4683-99a0-3caf00187c66",
   "metadata": {},
   "source": [
    "##### Section 2.2.7 Corrélation entre les la distance des Grandes Villes et les salaires moyens (heatmap) <a class=\"anchor\" id=\"section_2_2_7\"></a>"
   ]
  },
  {
   "cell_type": "code",
   "execution_count": null,
   "id": "888bd3b6-bb59-4a3c-bc63-e3561a07fcab",
   "metadata": {},
   "outputs": [],
   "source": [
    "# Correlation between Average Salaries & distances from Paris/ChefLieux\n",
    "selected_columns = ['DIST_COM_PARIS','DIST_COM_CL_REG','DIST_COM_CL_DEPT','SNHM20']\n",
    "selected_df = df_merge3[selected_columns]\n",
    "\n",
    "correlation_matrix = selected_df.corr()[[\"SNHM20\"]]\n",
    "\n",
    "plt.figure(figsize=(5, 5))\n",
    "sns.heatmap(correlation_matrix, annot=True, cmap='coolwarm', fmt=\".2f\")\n",
    "plt.title('Correlation between average salaries & Sexe or Distance From Paris or ChefLieux Dept/Reg')\n",
    "plt.show()"
   ]
  },
  {
   "cell_type": "markdown",
   "id": "cb309ac3-7419-43ae-90bd-938f32728212",
   "metadata": {},
   "source": [
    "Etonnamment on ne voit pas d'impact de la distance des grandes villes sur le salaire moyen"
   ]
  },
  {
   "cell_type": "markdown",
   "id": "b38a85be-c416-4bba-bbf9-2eda6e71bae1",
   "metadata": {},
   "source": [
    "##### Section 2.2.8 Corrélation entre la distance du Chef Lieu de Région et le mode de cohabitation (displot) <a class=\"anchor\" id=\"section_2_2_8\"></a>"
   ]
  },
  {
   "cell_type": "code",
   "execution_count": null,
   "id": "a68ed88f-0972-42a5-9af4-5d7e79396253",
   "metadata": {},
   "outputs": [],
   "source": [
    "#Analysis of influence between Distance From ChefLieu_REG and Cohabitation Mode\n",
    "\n",
    "sns.displot(data=df_merge3, x=\"DIST_COM_CL_REG\", hue=\"MOCO\", multiple=\"stack\", height=5, aspect=2)\n"
   ]
  },
  {
   "cell_type": "markdown",
   "id": "30b439e7-dce1-45e5-9543-8be8ca8715e3",
   "metadata": {},
   "source": [
    "La distance par rapport au chef lieu de région ne semble pas avoir de réelle influence sur le mode de cohabitation."
   ]
  },
  {
   "cell_type": "markdown",
   "id": "e8268959-02a8-438b-a3f6-43145b76a9dd",
   "metadata": {},
   "source": [
    "### Chapitre 3. Nettoyage de données et Pre-procession  <a class=\"anchor\" id=\"chapter3\"></a>\n",
    "\n",
    "#### Section 3.1. df_final_merge data preparation <a class=\"anchor\" id=\"section_3_1\"></a>\n",
    "#### Section 3.2. Calcul des disparités salariales <a class=\"anchor\" id=\"section_3_2\"></a>"
   ]
  },
  {
   "cell_type": "code",
   "execution_count": null,
   "id": "de0a0d8e-2768-45ee-a6d4-9b72bc0363a8",
   "metadata": {},
   "outputs": [],
   "source": [
    "#  Allow to plot all columns of a data set\n",
    "pd.set_option('display.max_columns', None)\n",
    "\n",
    "## Read long strings in pandas dataframe\n",
    "pd.options.display.max_colwidth = 1000\n",
    "\n",
    "# Allow to display maximum 100 rows of a data set\n",
    "pd.set_option('display.max_rows', 100)"
   ]
  },
  {
   "cell_type": "code",
   "execution_count": null,
   "id": "d5271e5c-d8b1-41ad-9a3b-c88218611027",
   "metadata": {},
   "outputs": [],
   "source": [
    "# read a new datasets about dimploma that was found on INSEE, .csv from Google Drive\n",
    "file_id_diploma = '11-KEM4rJ2PqxsTn-BxW1pOfJobx6jjuv' # .csv file\n",
    "\n",
    "# Construct the direct download link\n",
    "download_link_diploma = f'https://drive.google.com/uc?export=download&id={file_id_diploma}'\n",
    "\n",
    "df_diploma=pd.read_csv(download_link_diploma, sep=';')     # OK  : from .csv file in google drive\n",
    "df_diploma.head()"
   ]
  },
  {
   "cell_type": "code",
   "execution_count": null,
   "id": "915688d2-466b-4ed5-a6ab-cbb108ec6558",
   "metadata": {},
   "outputs": [],
   "source": []
  },
  {
   "cell_type": "code",
   "execution_count": null,
   "id": "d48182b5-b355-4ddf-8f7f-1600d652058b",
   "metadata": {},
   "outputs": [],
   "source": [
    "df_final_merge = df_merge3.copy()\n",
    "\n",
    "# Drop column 'NIVGEO' because it has only one unique value, and 'LIBGEO' - dublicate of com_name\n",
    "df_final_merge = df_final_merge.drop(columns=['NIVGEO', 'LIBGEO'])"
   ]
  },
  {
   "cell_type": "code",
   "execution_count": null,
   "id": "af5eef44-e5ee-4e9a-899e-73ab9c5179db",
   "metadata": {},
   "outputs": [],
   "source": [
    "df_final_merge.columns"
   ]
  },
  {
   "cell_type": "code",
   "execution_count": null,
   "id": "1e803550-80ad-4509-96b8-cf4f533ecabd",
   "metadata": {},
   "outputs": [],
   "source": [
    "# Renaming the columns\n",
    "new_column_names = {\n",
    "    'SNHM20': 'mean_net_salary_hour_overall',\n",
    "    'SNHMC20': 'mean_net_salary_hour_executives',\n",
    "    'SNHMP20': 'mean_net_salary_hour_avg_executive',\n",
    "    'SNHME20': 'mean_net_salary_hour_employee',\n",
    "    'SNHMO20': 'mean_net_salary_hour_worker',\n",
    "    'SNHMF20': 'mean_net_salary_hour_female',\n",
    "    'SNHMFC20': 'mean_net_salary_hour_female_executives',\n",
    "    'SNHMFP20': 'mean_net_salary_hour_avg_female_executive',\n",
    "    'SNHMFE20': 'mean_net_salary_hour_female_employee',\n",
    "    'SNHMFO20': 'mean_net_salary_hour_female_worker',\n",
    "    'SNHMH20': 'mean_net_salary_hour_male',\n",
    "    'SNHMHC20': 'mean_net_salary_hour_male_executives',\n",
    "    'SNHMHP20': 'mean_net_salary_hour_avg_male_executive',\n",
    "    'SNHMHE20': 'mean_net_salary_hour_male_employee',\n",
    "    'SNHMHO20': 'mean_net_salary_hour_male_worker',\n",
    "    'SNHM1820': 'mean_net_salary_hour_18_25',\n",
    "    'SNHM2620': 'mean_net_salary_hour_26_50',\n",
    "    'SNHM5020': 'mean_net_salary_hour_over_50',\n",
    "    'SNHMF1820': 'mean_net_salary_hour_female_18_25',\n",
    "    'SNHMF2620': 'mean_net_salary_hour_female_26_50',\n",
    "    'SNHMF5020': 'mean_net_salary_hour_female_over_50',\n",
    "    'SNHMH1820': 'mean_net_salary_hour_male_18_25',\n",
    "    'SNHMH2620': 'mean_net_salary_hour_male_26_50',\n",
    "    'SNHMH5020': 'mean_net_salary_hour_male_over_50',\n",
    "    'DEPT_nom': 'DEPT_name',\n",
    "    'COM_nom' : 'COM_name', \n",
    "    'Capitale' : 'capital', \n",
    "    'Capitale_latitude' : 'capital_latitude',\n",
    "    'Capitale_longitude':'capitale_longitude',\n",
    "    'SEXE' : 'sex'\n",
    "}\n",
    "\n",
    "\n",
    "df_final_merge = df_final_merge.rename(columns=new_column_names)"
   ]
  },
  {
   "cell_type": "code",
   "execution_count": null,
   "id": "9126706c-259c-4c01-b2c0-6b9873814090",
   "metadata": {},
   "outputs": [],
   "source": [
    "summary(df_final_merge)"
   ]
  },
  {
   "cell_type": "code",
   "execution_count": null,
   "id": "0f6d3cef-b103-409a-a2e1-298a2b6f8bc5",
   "metadata": {},
   "outputs": [],
   "source": [
    "# Drop specified columns\n",
    "df = df_final_merge.drop(columns=['MOCO', 'AGEQ80_17', 'sex', 'NB'])  \n",
    "\n",
    "# Drop duplicate rows\n",
    "df = df.drop_duplicates()\n",
    "\n",
    "df_final_merge2 = df.copy()\n",
    "df_final_merge2.shape"
   ]
  },
  {
   "cell_type": "markdown",
   "id": "f14046bd-7e7f-4496-a4a3-f22ab2a0cb69",
   "metadata": {},
   "source": [
    "#### Section 3.2. Calcul des disparités salariales <a class=\"anchor\" id=\"section_3_2\"></a>"
   ]
  },
  {
   "cell_type": "code",
   "execution_count": null,
   "id": "cae2e174-55f5-4e22-91b3-20d069cc20be",
   "metadata": {},
   "outputs": [],
   "source": [
    "from sklearn.preprocessing import StandardScaler\n",
    "from sklearn.cluster import KMeans\n",
    "\n",
    "## Step 1: Calculating salary disparity metrics\n",
    "# Calculating the gender wage gap among executives\n",
    "df_final_merge2['exec_gender_wage_gap'] = df_final_merge2['mean_net_salary_hour_male_executives'] - df_final_merge2['mean_net_salary_hour_female_executives']\n",
    "\n",
    "# Calculating age-related wage gaps within gender for the oldest and youngest cohorts\n",
    "df_final_merge2['age_gap_male'] = df_final_merge2['mean_net_salary_hour_male_over_50'] - df_final_merge2['mean_net_salary_hour_male_18_25']\n",
    "df_final_merge2['age_gap_female'] = df_final_merge2['mean_net_salary_hour_female_over_50'] - df_final_merge2['mean_net_salary_hour_female_18_25']\n",
    "\n",
    "# Calculating the overall gender wage gap\n",
    "df_final_merge2['overall_gender_wage_gap'] = df_final_merge2['mean_net_salary_hour_male'] - df_final_merge2['mean_net_salary_hour_female']\n",
    "\n",
    "# Calculating gender wage gaps within specific age groups\n",
    "df_final_merge2['gender_gap_18_25'] = df_final_merge2['mean_net_salary_hour_male_18_25'] - df_final_merge2['mean_net_salary_hour_female_18_25']\n",
    "df_final_merge2['gender_gap_over_50'] = df_final_merge2['mean_net_salary_hour_male_over_50'] - df_final_merge2['mean_net_salary_hour_female_over_50']\n",
    "\n",
    "\n"
   ]
  },
  {
   "cell_type": "markdown",
   "id": "4086f095-20c7-4c7f-8f97-7b0f0ac07a04",
   "metadata": {},
   "source": [
    "#### Section 3.3. Agrégation des données par Régions, Départements <a class=\"anchor\" id=\"section_3_3\"></a>"
   ]
  },
  {
   "cell_type": "code",
   "execution_count": null,
   "id": "b81f3a2d-bb4f-4079-bb33-1305e5d0d116",
   "metadata": {},
   "outputs": [],
   "source": [
    "## Step 2: Aggregate metrics including Total_Salaries and disparity metrics by region\n",
    "region_analysis = df_final_merge2.groupby('REG_code').agg({\n",
    "    'Total_Salaries': 'sum', \n",
    "    'exec_gender_wage_gap': 'mean',\n",
    "    'age_gap_male': 'mean',\n",
    "    'age_gap_female': 'mean',\n",
    "    'overall_gender_wage_gap': 'mean',\n",
    "    'gender_gap_18_25': 'mean',\n",
    "    'gender_gap_over_50': 'mean',\n",
    "    'REG_ChefLieu_latitude': 'first',\n",
    "    'REG_ChefLieu_longitude': 'first',\n",
    "    'REG_nom': 'first',\n",
    "    'DEPT_ChefLieu' : 'first',\n",
    "    'DEPT_ChefLieu_latitude': 'first',\n",
    "    'DEPT_ChefLieu_longitude': 'first',\n",
    "}).reset_index()\n",
    "\n",
    "region_analysis.head()\n",
    "\n",
    "department_analysis = df_final_merge2.groupby('DEPT_code').agg({\n",
    "    'Total_Salaries': 'sum', \n",
    "    'exec_gender_wage_gap': 'mean',\n",
    "    'age_gap_male': 'mean',\n",
    "    'age_gap_female': 'mean',\n",
    "    'overall_gender_wage_gap': 'mean',\n",
    "    'gender_gap_18_25': 'mean',\n",
    "    'gender_gap_over_50': 'mean',\n",
    "    'REG_ChefLieu_latitude': 'first',\n",
    "    'REG_ChefLieu_longitude': 'first',\n",
    "    'REG_nom': 'first',\n",
    "    'DEPT_name' : 'first', \n",
    "    'DEPT_ChefLieu' : 'first',\n",
    "    'DEPT_ChefLieu_latitude': 'first',\n",
    "    'DEPT_ChefLieu_longitude': 'first',\n",
    "}).reset_index()\n",
    "\n",
    "department_analysis.head()"
   ]
  },
  {
   "cell_type": "markdown",
   "id": "b8883e98-574d-4b5a-9665-fcde19363f4d",
   "metadata": {},
   "source": [
    "#### Section 3.3. Normalisation des données avant clustering <a class=\"anchor\" id=\"section_3_3\"></a> "
   ]
  },
  {
   "cell_type": "code",
   "execution_count": null,
   "id": "e711cde1-6ea5-4ed4-b3b0-bc4fdac3c0d1",
   "metadata": {},
   "outputs": [],
   "source": [
    "# Normalisation des données avec StandardScaler\n",
    "\n",
    "features_combined = ['Total_Salaries', 'exec_gender_wage_gap', 'age_gap_male', 'age_gap_female', \n",
    "                     'overall_gender_wage_gap', 'gender_gap_18_25', 'gender_gap_over_50']\n",
    "scaler = StandardScaler()\n",
    "\n",
    "# Normalisation df X_scaled_region\n",
    "X_scaled_region = scaler.fit_transform(region_analysis[features_combined])\n",
    "X_scaled_region_df = pd.DataFrame(X_scaled_region, columns = features_combined)\n",
    "X_scaled_region_df.head()\n",
    "\n",
    "# Normalisation df X_scaled_department\n",
    "X_scaled_department = scaler.fit_transform(department_analysis[features_combined])\n",
    "X_scaled_department_df = pd.DataFrame(X_scaled_department, columns = features_combined)\n",
    "X_scaled_department_df.head()\n"
   ]
  },
  {
   "cell_type": "code",
   "execution_count": null,
   "id": "5f8527a2-6872-4fb8-ab8e-4d1412205019",
   "metadata": {},
   "outputs": [],
   "source": []
  },
  {
   "cell_type": "code",
   "execution_count": null,
   "id": "8c95d92e-f65f-4c63-a98d-aef58b79d948",
   "metadata": {},
   "outputs": [],
   "source": []
  },
  {
   "cell_type": "code",
   "execution_count": null,
   "id": "824c4ddf-8cfe-4ae4-9050-1a3287fd6214",
   "metadata": {},
   "outputs": [],
   "source": []
  },
  {
   "cell_type": "code",
   "execution_count": null,
   "id": "355ceea1-fbb2-44dc-b0b6-86bc6ba734e6",
   "metadata": {},
   "outputs": [],
   "source": []
  },
  {
   "cell_type": "code",
   "execution_count": null,
   "id": "9cb64743-2c48-4340-a73a-cda9df802dd2",
   "metadata": {},
   "outputs": [],
   "source": []
  },
  {
   "cell_type": "code",
   "execution_count": null,
   "id": "d0fde503-84ac-41ba-af80-7715e5f36806",
   "metadata": {},
   "outputs": [],
   "source": []
  },
  {
   "cell_type": "code",
   "execution_count": null,
   "id": "0344651b-47a1-4c47-84d7-2edfd381ec48",
   "metadata": {},
   "outputs": [],
   "source": []
  },
  {
   "cell_type": "code",
   "execution_count": null,
   "id": "c1750155-e391-495a-af1a-cfc543297ff5",
   "metadata": {},
   "outputs": [],
   "source": []
  },
  {
   "cell_type": "code",
   "execution_count": null,
   "id": "6cf89b17-622d-4c9c-855a-dc40299ef52e",
   "metadata": {},
   "outputs": [],
   "source": []
  },
  {
   "cell_type": "code",
   "execution_count": null,
   "id": "12b962ca-a627-49a2-89d5-1d89bf5f631f",
   "metadata": {},
   "outputs": [],
   "source": []
  },
  {
   "cell_type": "code",
   "execution_count": null,
   "id": "1ed7b421-6a10-4835-9ad3-4e261e03f4cd",
   "metadata": {},
   "outputs": [],
   "source": []
  },
  {
   "cell_type": "markdown",
   "id": "e361dafc-d59f-4301-b00a-d8a0aa1cca0f",
   "metadata": {},
   "source": []
  },
  {
   "cell_type": "code",
   "execution_count": null,
   "id": "58edf104-e142-4d7e-a4ec-e716a60a146d",
   "metadata": {},
   "outputs": [],
   "source": []
  },
  {
   "cell_type": "code",
   "execution_count": null,
   "id": "0db1b92f-944d-4807-8f92-7299554b6649",
   "metadata": {},
   "outputs": [],
   "source": []
  },
  {
   "cell_type": "code",
   "execution_count": null,
   "id": "683aae48-8b86-4a75-9270-9031d3e7a2b4",
   "metadata": {},
   "outputs": [],
   "source": []
  },
  {
   "cell_type": "code",
   "execution_count": null,
   "id": "1eb2c1aa-8732-4f19-abba-5a35d1564d86",
   "metadata": {},
   "outputs": [],
   "source": []
  },
  {
   "cell_type": "code",
   "execution_count": null,
   "id": "f2f17525-9b61-437b-b6c9-8970bff74526",
   "metadata": {},
   "outputs": [],
   "source": []
  },
  {
   "cell_type": "code",
   "execution_count": null,
   "id": "0a013177-0f3d-4ffa-a9e2-28a08a24179e",
   "metadata": {},
   "outputs": [],
   "source": []
  },
  {
   "cell_type": "markdown",
   "id": "211c2821-5dad-43e9-9e52-595f9ae4546e",
   "metadata": {},
   "source": [
    "### Chapitre 4. <a class=\"anchor\" id=\"chapter4\"></a>\n",
    "\n",
    "#### Section 4.1.  <a class=\"anchor\" id=\"section_4_1\"></a>"
   ]
  },
  {
   "cell_type": "code",
   "execution_count": null,
   "id": "485389a1-c6da-4327-8f31-70fd71d45133",
   "metadata": {},
   "outputs": [],
   "source": []
  },
  {
   "cell_type": "code",
   "execution_count": null,
   "id": "912a4b4b-c929-44cc-8681-77e8f4e100f4",
   "metadata": {},
   "outputs": [],
   "source": []
  },
  {
   "cell_type": "code",
   "execution_count": null,
   "id": "f83dd308-aa69-496b-a857-91297f61f5bf",
   "metadata": {},
   "outputs": [],
   "source": []
  },
  {
   "cell_type": "code",
   "execution_count": null,
   "id": "707c6e23-9f87-49bc-8984-38a56446c72a",
   "metadata": {},
   "outputs": [],
   "source": []
  },
  {
   "cell_type": "code",
   "execution_count": null,
   "id": "526d0858-390c-44e6-b0f8-057e73ef669e",
   "metadata": {},
   "outputs": [],
   "source": []
  },
  {
   "cell_type": "code",
   "execution_count": null,
   "id": "7108692c-7ca1-4e96-bd65-950bc783e62e",
   "metadata": {},
   "outputs": [],
   "source": []
  },
  {
   "cell_type": "code",
   "execution_count": null,
   "id": "935cf6ab-4d75-4b3f-836b-a182a88faedf",
   "metadata": {},
   "outputs": [],
   "source": [
    "summary(df_entreprises)\n",
    "summary(df_salary)\n",
    "summary(df_population)\n"
   ]
  },
  {
   "cell_type": "code",
   "execution_count": null,
   "id": "01148dfe-1d4b-4c7f-b08e-80e3e26fc256",
   "metadata": {},
   "outputs": [],
   "source": []
  },
  {
   "cell_type": "code",
   "execution_count": null,
   "id": "46705e4a-3bb7-40b9-b4a4-1383c0d84af3",
   "metadata": {},
   "outputs": [],
   "source": []
  },
  {
   "cell_type": "code",
   "execution_count": null,
   "id": "03dd8807-6906-4602-9292-1bc730d49e97",
   "metadata": {},
   "outputs": [],
   "source": []
  },
  {
   "cell_type": "code",
   "execution_count": null,
   "id": "c898cb95-0f13-45aa-888c-c97cfd46462c",
   "metadata": {},
   "outputs": [],
   "source": []
  },
  {
   "cell_type": "code",
   "execution_count": null,
   "id": "a0724b1a-6bd9-469d-aaec-130878615caa",
   "metadata": {},
   "outputs": [],
   "source": []
  }
 ],
 "metadata": {
  "kernelspec": {
   "display_name": "Python 3 (ipykernel)",
   "language": "python",
   "name": "python3"
  },
  "language_info": {
   "codemirror_mode": {
    "name": "ipython",
    "version": 3
   },
   "file_extension": ".py",
   "mimetype": "text/x-python",
   "name": "python",
   "nbconvert_exporter": "python",
   "pygments_lexer": "ipython3",
   "version": "3.12.2"
  }
 },
 "nbformat": 4,
 "nbformat_minor": 5
}
